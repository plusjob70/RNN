{
 "cells": [
  {
   "cell_type": "code",
   "execution_count": 29,
   "metadata": {
    "collapsed": true
   },
   "outputs": [],
   "source": [
    "from collections import Counter\n",
    "from itertools import compress\n",
    "\n",
    "import re\n",
    "import pandas as pd"
   ]
  },
  {
   "cell_type": "code",
   "execution_count": 62,
   "outputs": [],
   "source": [
    "def isfloat(s):\n",
    "    try:\n",
    "        float(s)\n",
    "        return True\n",
    "    except ValueError:\n",
    "        return False\n",
    "\n",
    "def regularize(word):\n",
    "    word = re.sub(r\"[\\']s|’s|[(|)|,|\\\"|\\'|‘|’|`|“|”|:|;|\\[|\\]|?|!]|(\\.(?=[\\s\\n\\r”\\\"]|$))\", '', word).lower().strip()\n",
    "    if word.isdigit():\n",
    "        word = '<DIG>'\n",
    "    elif isfloat(word):\n",
    "        word = '<FLO>'\n",
    "    elif ('$' or '€' or '£') in word:\n",
    "        word = '<MON>'\n",
    "    elif '°c' in word:\n",
    "        word = '<TEM>'\n",
    "    elif '°' in word:\n",
    "        word = '<DEG>'\n",
    "    elif '%' in word:\n",
    "        word = '<PER>'\n",
    "    return word"
   ],
   "metadata": {
    "collapsed": false,
    "pycharm": {
     "name": "#%%\n"
    }
   }
  },
  {
   "cell_type": "code",
   "execution_count": 63,
   "outputs": [],
   "source": [
    "data = pd.read_csv('./Data/train.csv')"
   ],
   "metadata": {
    "collapsed": false,
    "pycharm": {
     "name": "#%%\n"
    }
   }
  },
  {
   "cell_type": "code",
   "execution_count": 64,
   "outputs": [],
   "source": [
    "ict_group = data[data['label']=='ICT']\n",
    "edu_group = data[data['label']=='education']\n",
    "mec_group = data[data['label']=='mechanics']\n",
    "eco_group = data[data['label']=='economy']"
   ],
   "metadata": {
    "collapsed": false,
    "pycharm": {
     "name": "#%%\n"
    }
   }
  },
  {
   "cell_type": "code",
   "execution_count": 65,
   "outputs": [],
   "source": [
    "with open('./backup/stopwords.txt', mode='r') as f:\n",
    "    stop_words = [line.rstrip() for line in f.readlines()]"
   ],
   "metadata": {
    "collapsed": false,
    "pycharm": {
     "name": "#%%\n"
    }
   }
  },
  {
   "cell_type": "code",
   "execution_count": 66,
   "outputs": [
    {
     "data": {
      "text/plain": "['<DIG>',\n 'device',\n 'information',\n 'data',\n 'first',\n 'unit',\n 'user',\n 'fig',\n 'second',\n 'image',\n 'include',\n 'display',\n 'embodiment',\n 'signal',\n 'input',\n 'electronic',\n 'one',\n 'control',\n 'memory',\n 'present',\n 'invention',\n 'operation',\n 'system',\n 'communication',\n 'terminal',\n 'various',\n 'using',\n 'method',\n 'area',\n 'based',\n 'value',\n 'time',\n 'case',\n 'processor',\n 'used',\n 'output',\n 'touch',\n 'plurality',\n 'circuit',\n 'sensor',\n 'screen',\n 'content',\n 'apparatus',\n 'block',\n 'controller',\n 'object',\n 'module',\n 'number',\n 'server',\n 'embodiments',\n 'step',\n 'application',\n 'voltage',\n 'service',\n 'function',\n 'set',\n 'corresponding',\n 'layer',\n 'diagram',\n 'process',\n 'illustrating',\n 'least',\n 'provided',\n 'network',\n 'reference',\n 'state',\n 'use',\n 'mode',\n 'power',\n 'processing',\n 'described',\n 'technology',\n 'another',\n 'different',\n 'receive',\n 'performed',\n 'displayed',\n 'includes',\n 'connected',\n 'perform',\n 'mobile',\n 'configuration',\n 'storage',\n 'received',\n 'provide',\n 'related',\n 'region',\n 'authentication',\n 'level',\n 'result',\n 'devices',\n 'direction',\n 'interface',\n 'whether',\n 'included',\n 'external',\n 'determine',\n 'store',\n 'third',\n 'analysis',\n 'model',\n 'current',\n 'message',\n 'shown',\n 'light',\n 'generated',\n 'point',\n 'transmit',\n 'base',\n 'stored',\n 'program',\n 'line',\n 'applied',\n 'management',\n 'change',\n 'channel',\n 'specific',\n 'part',\n 'selected',\n 'transmission',\n 'surface',\n 'cell',\n 'determined',\n 'generate',\n 'including',\n 'virtual',\n 'type',\n 'request',\n 'accordingly',\n 'location',\n 'station',\n 'response',\n 'size',\n 'portion',\n 'formed',\n 'security',\n 'end',\n 'wireless',\n 'position',\n 'target',\n 'key',\n 'two',\n 'configured',\n 'structure',\n 'new',\n 'referring',\n 'services',\n 'video',\n 'frame',\n 'order',\n 'pattern',\n 'command',\n 'study',\n 'possible',\n 'sensing',\n 'selection',\n 'panel',\n 'group',\n 'access',\n 'implemented',\n 'event',\n 'frequency',\n 'environment',\n 'digital',\n 'node',\n 'high',\n 'table',\n 'form',\n 'connection',\n 'source',\n 'driving',\n 'disposed',\n 'media',\n 'transmitted',\n 'field',\n 'address',\n 'support',\n 'semiconductor',\n 'receiving',\n 'camera',\n 'industry',\n 'necessary',\n 'voice',\n 'detection',\n 'meanwhile',\n 'results',\n 'configurations',\n 'research',\n 'code',\n 'view',\n 'pixel',\n 'recognition',\n 'within',\n 'companies',\n 'body',\n 'users',\n 'main',\n 'member',\n 'providing',\n 'audio',\n 'gesture',\n 'multiple',\n 'hand',\n 'development',\n 'predetermined',\n 'space',\n 'signals',\n 'market',\n 'side',\n 'setting',\n 'among',\n 'values',\n 'period',\n 'effect',\n 'bit',\n 'addition',\n 'particular',\n 'amount',\n 'element',\n 'payment',\n 'buffer',\n '<FLO>',\n 'like',\n 'rate',\n 'motion',\n 'words',\n 'public',\n 'operating',\n 'feature',\n 'smart',\n 'read',\n 'generation',\n 'flowchart',\n 'areas',\n 'means',\n 'required',\n 'functions',\n 'provides',\n 'ict',\n 'vehicle',\n 'performance',\n 'color',\n 'business',\n 'personal',\n 'internet',\n 'window',\n 'characteristics',\n 'search',\n 'transistor',\n 'changed',\n 'detect',\n 'fourth',\n 'movement',\n 'electrode',\n '3d',\n 'increase',\n 'artificial',\n 'intelligence',\n 'social',\n 'images',\n 'page',\n 'array',\n 'lines',\n 'policy',\n 'korea',\n 'shape',\n 'text',\n 'error',\n 'operations',\n 'map',\n 'learning',\n 'since',\n '<PER>',\n 'computing',\n 'detected',\n 'receives',\n 'test',\n 'distance',\n 'difference',\n 'range',\n 'execution',\n 'lower',\n 'button',\n 'substrate',\n 'file',\n 'types',\n 'sound',\n 'haptic',\n 'temperature',\n 'list',\n 'icon',\n 'alternatively',\n 'general',\n 'contact',\n 'computer',\n 'additional',\n 'speed',\n 'broadcasting',\n 'software',\n 'many',\n 'select',\n 'clock',\n 'big',\n 'word',\n 'similar',\n 'low',\n 'performing',\n 'fingerprint',\n 'material',\n 'host',\n 'depending',\n 'existing',\n 'correspond',\n 'important',\n 'quality',\n 'made',\n 'divided',\n 'obtained',\n 'supply',\n 'item',\n 'index',\n 'shows',\n 'physical',\n 'methods',\n 'figs',\n 'higher',\n 'government',\n 'threshold',\n 'analyzed',\n 'technologies',\n 'product',\n 'single',\n 'platform',\n 'without',\n 'depth',\n 'filter',\n 'cover',\n 'changes',\n 'cells',\n 'internal',\n 'illustrated',\n 'logic',\n 'right',\n 'people',\n 'three',\n 'identification',\n 'measurement',\n 'local',\n 'future',\n 'components',\n 'elements',\n 'examples',\n 'countries',\n 'next',\n 'cases',\n 'distribution',\n 'procedure',\n 'transmits',\n 'antenna',\n 'large',\n 'average',\n 'therefore',\n 'broadcast',\n 'chip',\n 'industrial',\n 'housing',\n 'operate',\n 'illustrates',\n 'way',\n 'sensors',\n 'showing',\n 'optical',\n 'located',\n 'status',\n 'portable',\n 'resource',\n 'check',\n 'executed',\n 'controlling',\n 'performs',\n 'e.g.',\n 'determines',\n 'found',\n 'objects',\n 'reception',\n 'nonvolatile',\n 'expected',\n 'section',\n 'menu',\n 'calculated',\n 'systems',\n 'contents',\n 'certain',\n 'growth',\n 'variable',\n 'design',\n 'points',\n 'resources',\n 'limited',\n 'component',\n 'call',\n 'obtain',\n 'determining',\n 'problem',\n 'front',\n 'path',\n 'human',\n 'home',\n 'online',\n 'reality',\n 'defined',\n 'condition',\n 'switch',\n 'core',\n 'length',\n 'generating',\n 'specifically',\n 'moving',\n 'detailed',\n 'upper',\n 'applications',\n 'identify',\n 'total',\n 'transmitting',\n 'feedback',\n 'center',\n 'need',\n 'thus',\n 'coupled',\n 'figure',\n 'products',\n 'card',\n 'blocks',\n 'individual',\n 'developed',\n 'education',\n 'compared',\n 'capable',\n 'angle',\n 'bits',\n 'neural',\n 'seen',\n 'small',\n 'integrated',\n 'following',\n 'studies',\n 'driver',\n 'less',\n 'overall',\n 'sense',\n 'delay',\n 'battery',\n 'increased',\n 'pen',\n 'basic',\n 'identified',\n 'associated',\n 'rear',\n 'terms',\n 'column',\n 'stores',\n 'radio',\n 'hardware',\n 'conducted',\n 'channels',\n 'plate',\n 'decoding',\n 'remote',\n 'factors',\n 'web',\n 'active',\n 'via',\n 'production',\n 'film',\n 'preset',\n 'characteristic',\n 'finger',\n 'spatial',\n 'cloud',\n 'real',\n 'pixels',\n 'work',\n 'write',\n 'biometric',\n 'well',\n 'generator',\n 'refers',\n 'units',\n 'arranged',\n 'extracted',\n 'beam',\n 'increasing',\n 'parameter',\n 'regions',\n 'detail',\n 'guide',\n 'must',\n 'vector',\n 'ratio',\n 'thereafter',\n 'pressure',\n 'displays',\n 'notification',\n 'separate',\n 'domestic',\n 'aaa',\n 'forming',\n 'respect',\n 'correction',\n 'actual',\n 'directly',\n 'outside',\n 'standard',\n 'fixed',\n 'band',\n 'pad',\n 'decoder',\n 'force',\n 'context',\n 'gate',\n 'conductive',\n 'resistance',\n 'difficult',\n 'combination',\n 'situation',\n 'face',\n 'sequence',\n 'company',\n 'task',\n 'manner',\n 'innovation',\n 'protection',\n 'prediction',\n 'processed',\n 'items',\n 'generates',\n 'interaction',\n 'relationship',\n 'along',\n 'database',\n 'act',\n 'training',\n 'ground',\n 'iot',\n 'flow',\n 'programs',\n 'reduced',\n 'previous',\n 'greater',\n 'ui',\n 'subject',\n 'cost',\n 'packet',\n 'considered',\n 'entire',\n 'investment',\n 'behavior',\n 'controls',\n 'visual',\n 'phone',\n 'normal',\n 'common',\n 'city',\n 'algorithm',\n 'initial',\n 'indicating',\n 'above-described',\n 'revolution',\n 'synchronization',\n 'increases',\n 'app',\n 'medical',\n 'partial',\n 'price',\n 'variables',\n 'suitable',\n 'conversion',\n 'collected',\n 'sharing',\n 'financial',\n 'respectively',\n 'recognized',\n 'interest',\n 'features',\n 'significant',\n 'verification',\n 'left',\n 'matching',\n 'occurs',\n 'client',\n 'outputs',\n 'secure',\n 'recognize',\n 'detecting',\n 'medium',\n 'states',\n 'factor',\n 'national',\n 'adjacent',\n 'classified',\n 'experience',\n 'wearable',\n 'person',\n 'document',\n 'positive',\n 'world',\n 'stage',\n 'global',\n 'degree',\n 'classification',\n 'maximum',\n 'link',\n 'receiver',\n 'modules',\n 'register',\n 'layers',\n 'together',\n 'problems',\n 'displaying',\n 'activated',\n 'row',\n 'noise',\n 'vibration',\n 'economic',\n 'conditions',\n 'groups',\n 'comparison',\n 'demand',\n 'reduce',\n 'created',\n 'controlled',\n 'nodes',\n 'selecting',\n 'indicate',\n 'role',\n 'machine',\n 'update',\n 'open',\n 'improve',\n 'installed',\n 'analyze',\n 'established',\n 'consumption',\n 'acquire',\n 'speaker',\n 'vertical',\n 'improved',\n 'combined',\n 'transfer',\n 'efficiency',\n 'create',\n 'effects',\n 'relatively',\n 'relates',\n 'flexible',\n 'years',\n 'switching',\n 'board',\n 'four',\n 'edge',\n 'changing',\n 'society',\n 'id',\n 'communicate',\n 'analyzing',\n 'times',\n 'acquired',\n 'referred',\n 'equation',\n 'major',\n 'health',\n 'execute',\n 'account',\n 'however',\n 'autonomous',\n 'purpose',\n 'around',\n 'b',\n 'energy',\n 'thereof',\n 'background',\n 'processes',\n 'survey',\n 'original',\n 'calculation',\n 'move',\n 'coefficient',\n 'follows',\n 'coordinate',\n 'phase',\n 'plan',\n 'central',\n 'candidate',\n 'manufacturing',\n 'specified',\n 'corresponds',\n 'pulse',\n 'recently',\n 'equipment',\n 'weight',\n 'make',\n 'designated',\n 'game',\n 'inputs',\n 'top',\n 'equal',\n 'identifier',\n 'describing',\n 'bbb',\n 'become',\n 'fields',\n 'basis',\n 'added',\n 'scan',\n 'presented',\n 'history',\n 'manager',\n 'impact',\n 'positioned',\n 'password',\n 'mean',\n 'represents',\n 'reset',\n 'still',\n 'input/output',\n 'networks',\n 'charging',\n 'recent',\n 'terminals',\n 'bending',\n 'china',\n 'tag',\n 'timing',\n 'easily',\n 'apply',\n 'desired',\n 'bank',\n 'electrically',\n 'symbol',\n 'measured',\n 'although',\n 'photographing',\n 'technical',\n 'mounted',\n 'decision',\n 'encoding',\n 'evaluation',\n 'confirmed',\n 'format',\n 'industries',\n 'shared',\n 'economy',\n 'previously',\n 'character',\n 'n',\n 'intensity',\n 'potential',\n 'needed',\n 'simultaneously',\n 'encryption',\n 'emitting',\n 'occur',\n 'monitoring',\n 'language',\n 'concept',\n 'axis',\n 'aspect',\n 'members',\n 'techniques',\n 'trend',\n 'air',\n 'enable',\n 'graph',\n 'm',\n 'disclosure',\n 'resolution',\n 'calculate',\n 'parallel',\n 'representative',\n 'engine',\n 'reliability',\n 'able',\n 'transparent',\n 'determination',\n 'lock',\n 'privacy',\n 'keyboard',\n 'private',\n 'advertisement',\n 'generally',\n 'volume',\n 'assumed',\n 'parameters',\n 'customer',\n 'per',\n 'rotation',\n 'customers',\n 'several',\n 'peripheral',\n 'collection',\n 'life',\n 'operated',\n 'prior',\n 'accuracy',\n 'name',\n 'appropriate',\n 'korean',\n 'activities',\n 'year',\n 'matrix',\n 'policies',\n 'intelligent',\n 'measure',\n 'distributed',\n 'measures',\n 'port',\n 'uplink',\n 'latch',\n 'usage',\n 'wave',\n 'completed',\n 'consumers',\n 'random',\n 'magnetic',\n 'sales',\n 'sector',\n 'additionally',\n 'interval',\n 'applying',\n 'land',\n 'perspective',\n 'risk',\n 'paper',\n 'robot',\n 'herein',\n 'called',\n 'storing',\n 'regarding',\n 'influence',\n 'available',\n 'profile',\n 'later',\n 'scheme',\n 'said',\n 'convenience',\n 'tv',\n 'insulating',\n 'uses',\n 'priority',\n 'place',\n 'hole',\n 'ways',\n 'models',\n 'start',\n 'exemplary',\n 'supplied',\n 'steps',\n 'costs',\n 'picture',\n 'natural',\n 'direct',\n 'becomes',\n 'organic',\n 'estimated',\n 'continuously',\n 'tracking',\n 'negative',\n 'adjusted',\n 'opening',\n 'rather',\n 'manage',\n 'viewing',\n 'simple',\n 'expressed',\n 'blockchain',\n 'inside',\n 'captured',\n 'rights',\n 'actively',\n 'conventional',\n 'supporting',\n 'traffic',\n 'capture',\n 'cooperation',\n 'adjustment',\n 'proposed',\n 'transistors',\n 'final',\n 'extract',\n 'represent',\n 'back',\n 'foreign',\n 'amplifier',\n 'issues',\n 'lens',\n 'country',\n 'needs',\n 'registration',\n 'description',\n 'width',\n 'compensation',\n 'easy',\n 'minimum',\n 'string',\n 'rule',\n 'share',\n 'water',\n 'long',\n 'implementations',\n 'automatically',\n 'known',\n 'correlation',\n 'derived',\n 'detects',\n 'sensed',\n 'erase',\n 'registered',\n 'plane',\n 'tool',\n 'united',\n 'coordinates',\n 'participation',\n 'see',\n 'composed',\n 'electrodes',\n 'job',\n 'possibility',\n 'limit',\n 'protocol',\n 'effective',\n 'adjust',\n 'interference',\n 'loop',\n 'safety',\n 'drive',\n 'vr',\n 'importance',\n 'implementation',\n 'transmitter',\n 'introduced',\n 'regulations',\n 'activation',\n 'proceeds',\n 'stream',\n 'metal',\n 'domain',\n 'past',\n 'bar',\n 'mainly',\n 'project',\n 'labor',\n 'mapping',\n 'cycle',\n 'complex',\n 'play',\n 'environmental',\n 'intention',\n 'action',\n 'downlink',\n 'site',\n 'counter',\n 'converted',\n 'exchange',\n 'allows',\n 'variety',\n 'real-time',\n 'continuous',\n 'road',\n 'electrical',\n 'special',\n 'rf',\n 'find',\n 'scope',\n 'allow',\n 'cache',\n 'overseas',\n 'substantially',\n 'boundary',\n 'chapter',\n 'reason',\n 'turned',\n 'capital',\n 'report',\n 'inserted',\n 'patterns',\n 'considering',\n 'subframe',\n 'estimation',\n 'load',\n 'instruction',\n 'pc',\n 'encrypted',\n 'facilities',\n 'analog',\n 'date',\n 'technique',\n 'infrastructure',\n 'given',\n 'collect',\n 'consideration',\n ...]"
     },
     "execution_count": 66,
     "metadata": {},
     "output_type": "execute_result"
    }
   ],
   "source": [
    "ict_sentences = ict_group['text']\n",
    "words = []\n",
    "\n",
    "for sentence in ict_sentences:\n",
    "    word_list = sentence.split(' ')\n",
    "    for word in word_list:\n",
    "        if word:\n",
    "            words.append(regularize(word))\n",
    "\n",
    "ict_counter = Counter(words)\n",
    "ict_counter = sorted(ict_counter, key=ict_counter.get, reverse=True)\n",
    "ict_counter = list(compress(ict_counter, [0 if word in stop_words else 1 for word in ict_counter]))\n",
    "ict_counter"
   ],
   "metadata": {
    "collapsed": false,
    "pycharm": {
     "name": "#%%\n"
    }
   }
  },
  {
   "cell_type": "code",
   "execution_count": 67,
   "outputs": [
    {
     "data": {
      "text/plain": "['education',\n '<DIG>',\n 'students',\n 'school',\n 'learning',\n 'study',\n 'teachers',\n 'one',\n 'research',\n 'process',\n 'class',\n 'curriculum',\n 'time',\n 'high',\n 'teacher',\n 'system',\n 'used',\n 'educational',\n 'based',\n 'aaa',\n 'two',\n 'level',\n 'various',\n 'related',\n 'content',\n 'activities',\n 'first',\n 'number',\n 'life',\n 'results',\n 'necessary',\n 'social',\n 'development',\n 'studies',\n 'method',\n 'mathematics',\n 'problem',\n 'teaching',\n 'analysis',\n 'subject',\n 'knowledge',\n 'evaluation',\n 'using',\n 'important',\n 'use',\n 'experience',\n 'human',\n 'data',\n 'schools',\n 'group',\n 'career',\n 'conducted',\n 'elementary',\n 'people',\n 'field',\n 'result',\n 'ability',\n 'new',\n 'classes',\n 'found',\n 'training',\n 'effect',\n 'different',\n 'case',\n 'learners',\n 'student',\n 'many',\n 'order',\n 'information',\n 'korean',\n 'relationship',\n 'way',\n 'children',\n 'characteristics',\n 'model',\n 'theory',\n 'understanding',\n 'support',\n 'general',\n 'thinking',\n 'subjects',\n 'value',\n 'language',\n 'work',\n 'point',\n 'change',\n 'words',\n 'problems',\n 'mathematical',\n 'difficult',\n 'concept',\n 'program',\n 'must',\n 'presented',\n 'said',\n 'achievement',\n 'contents',\n 'design',\n 'individual',\n 'society',\n 'korea',\n 'positive',\n 'science',\n 'academic',\n 'made',\n 'university',\n 'possible',\n 'among',\n 'meaning',\n 'like',\n 'future',\n 'understand',\n 'need',\n 'textbooks',\n 'writing',\n 'rather',\n 'higher',\n 'specific',\n 'purpose',\n 'three',\n 'difference',\n 'situation',\n 'seen',\n 'questions',\n 'means',\n 'methods',\n 'find',\n 'activity',\n 'terms',\n 'since',\n 'basic',\n 'world',\n 'area',\n 'practice',\n 'role',\n 'job',\n 'environment',\n 'community',\n '<PER>',\n 'moral',\n 'form',\n 'middle',\n 'whether',\n 'factors',\n 'function',\n 'technology',\n 'make',\n 'developed',\n 'course',\n 'well',\n 'competency',\n 'particular',\n 'table',\n 'numbers',\n 'interest',\n 'think',\n 'space',\n 'communication',\n 'values',\n 'participation',\n 'behavior',\n 'parents',\n 'skills',\n 'performance',\n 'set',\n 'required',\n 'addition',\n 'special',\n 'college',\n 'without',\n 'changes',\n 'type',\n 'good',\n 'question',\n 'able',\n 'satisfaction',\n 'significant',\n 'second',\n 'test',\n 'discussion',\n 'stage',\n 'analyzed',\n 'shows',\n 'reason',\n 'direction',\n 'know',\n 'sense',\n 'given',\n 'learn',\n 'provide',\n 'unit',\n 'practical',\n 'areas',\n 'applied',\n 'major',\n 'task',\n 'culture',\n 'english',\n 'years',\n 'considered',\n 'much',\n 'view',\n 'participants',\n 'law',\n 'engineering',\n 'part',\n 'multicultural',\n 'develop',\n 'physical',\n 'period',\n 'state',\n 'help',\n 'textbook',\n 'shown',\n 'elements',\n 'fact',\n 'structure',\n 'math',\n 'reading',\n 'learner',\n 'nature',\n 'context',\n 'variables',\n 'groups',\n 'figure',\n 'provided',\n 'materials',\n 'current',\n 'others',\n 'end',\n 'experiences',\n 'within',\n 'following',\n 'cases',\n 'showed',\n 'disabilities',\n '<FLO>',\n 'called',\n 'previous',\n 'see',\n 'goal',\n 'public',\n 'perspective',\n 'hand',\n 'right',\n 'improve',\n 'us',\n 'attitude',\n 'follows',\n 'place',\n 'needs',\n 'energy',\n 'rights',\n 'vocational',\n 'cultural',\n 'operation',\n 'main',\n 'thought',\n 'person',\n 'creative',\n 'become',\n 'national',\n 'factor',\n 'policy',\n 'perception',\n 'small',\n 'approach',\n 'increase',\n 'members',\n 'differences',\n 'rate',\n 'total',\n 'influence',\n 'common',\n 'history',\n 'although',\n 'types',\n 'confirmed',\n 'take',\n 'programs',\n 'similar',\n 'line',\n 'core',\n 'four',\n 'look',\n 'cognitive',\n 'existing',\n 'plan',\n 'large',\n 'points',\n 'play',\n 'concepts',\n 'convergence',\n 'compared',\n 'actual',\n 'attention',\n 'online',\n 'solve',\n 'divided',\n 'grade',\n 'reality',\n 'classroom',\n 'quantum',\n 'low',\n 'appropriate',\n 'another',\n 'still',\n 'real',\n 'together',\n 'standards',\n 'year',\n 'selected',\n 'negative',\n 'feedback',\n 'things',\n 'intelligence',\n 'including',\n 'equation',\n 'object',\n 'integrated',\n 'effective',\n 'present',\n 'times',\n 'importance',\n 'revised',\n 'standard',\n 'private',\n 'art',\n 'emotional',\n 'media',\n 'creativity',\n 'researcher',\n 'next',\n 'goals',\n 'defined',\n 'problem-solving',\n 'around',\n 'competencies',\n 'several',\n 'needed',\n 'states',\n 'character',\n 'team',\n 'improvement',\n 'center',\n 'long',\n 'humans',\n 'established',\n 'simple',\n 'get',\n 'expected',\n 'often',\n 'average',\n 'natural',\n 'difficulties',\n 'project',\n 'tool',\n 'degree',\n 'quality',\n 'application',\n 'seems',\n 'ways',\n 'suggested',\n 'items',\n 'analyze',\n 'create',\n 'depending',\n 'functions',\n 'variable',\n 'included',\n 'probability',\n 'employment',\n 'mainly',\n 'participate',\n 'control',\n 'conditions',\n 'intellectual',\n 'looking',\n 'survey',\n 'focus',\n 'basis',\n 'active',\n 'management',\n 'actively',\n 'local',\n 'interaction',\n 'certain',\n 'power',\n 'expressed',\n 'limited',\n 'learned',\n 'created',\n 'directly',\n 'lower',\n 'making',\n 'opinions',\n 'examine',\n 'expression',\n 'motivation',\n 'position',\n 'charge',\n 'mind',\n 'paper',\n 'emphasized',\n 'solving',\n 'complex',\n 'step',\n 'relatively',\n 'personal',\n 'act',\n 'consider',\n 'personality',\n 'light',\n 'government',\n 'department',\n 'family',\n 'principle',\n 'industrial',\n 'universities',\n 'b',\n 'force',\n 'mean',\n 'show',\n 'tasks',\n 'artificial',\n 'situations',\n 'relationships',\n 'lot',\n 'cooperation',\n 'something',\n 'secondary',\n 'always',\n 'want',\n 'size',\n 'organization',\n 'overall',\n 'issues',\n 'considering',\n 'becomes',\n 'true',\n 'lack',\n 'refers',\n 'early',\n 'therefore',\n 'specialized',\n 'feel',\n 'opportunity',\n 'recognized',\n 'efforts',\n 'kind',\n 'meaningful',\n 'grades',\n 'semester',\n 'courses',\n 'analyzing',\n 'past',\n 'text',\n 'computer',\n 'child',\n 'criteria',\n 'professional',\n 'digital',\n 'whole',\n 'strategy',\n 'go',\n 'aspects',\n 'amount',\n 'better',\n 'increased',\n 'however',\n 'gender',\n 'reflection',\n 'identity',\n 'lead',\n 'political',\n 'introduced',\n 'answer',\n 'idea',\n 'measure',\n 'guidance',\n 'apply',\n 'psychological',\n 'tools',\n 'scientific',\n 'relation',\n 'women',\n 'connection',\n 'arts',\n 'researchers',\n 'modern',\n 'frequency',\n 'age',\n 'free',\n 'mentioned',\n 'tried',\n 'give',\n 'matter',\n 'interview',\n 'term',\n 'theorem',\n 'independent',\n 'action',\n 'fields',\n 'essential',\n 'actually',\n 'ideas',\n 'physics',\n 'five',\n 'systems',\n 'status',\n 'performed',\n 'great',\n 'applying',\n 'easy',\n 'difficulty',\n 'material',\n 'clearly',\n 'effects',\n 'changed',\n 'north',\n 'classified',\n 'gifted',\n 'aspect',\n 'effectiveness',\n 'critical',\n 'revealed',\n 'service',\n 'appear',\n 'background',\n 'growth',\n 'path',\n 'objects',\n 'makes',\n 'known',\n 'peer',\n 'safety',\n 'experienced',\n 'discussed',\n 'foreign',\n 'citizenship',\n 'external',\n 'literacy',\n 'already',\n 'less',\n 'achieve',\n 'participated',\n 'recognition',\n 'correct',\n 'distance',\n 'formed',\n 'economic',\n 'along',\n 'emotions',\n 'distribution',\n 'side',\n 'toward',\n 'score',\n 'body',\n 'speed',\n 'say',\n 'solution',\n 'principles',\n 'limitations',\n 'implemented',\n 'instructional',\n 'cooperative',\n 'organizational',\n 'experts',\n 'mass',\n 'third',\n 'little',\n 'derived',\n 'selection',\n 'existence',\n 'improving',\n 'include',\n 'company',\n 'single',\n 'countries',\n 'labor',\n 'x',\n 'traditional',\n 'possibility',\n 'developing',\n 'key',\n 'enough',\n 'focusing',\n 'scale',\n 'taking',\n 'finally',\n 'respect',\n 'increasing',\n 'laws',\n 'working',\n 'easily',\n 'strategies',\n 'qualitative',\n 'obtained',\n 'home',\n 'phenomenon',\n 'final',\n 'dont',\n 'lecture',\n 'focused',\n 'consideration',\n 'potential',\n 'affect',\n 'united',\n 'domain',\n 'experiment',\n 'intervention',\n 'institutions',\n 'explained',\n 'innovation',\n 'word',\n 'literature',\n 'provides',\n 'original',\n 'definition',\n 'last',\n 'hours',\n 'simply',\n 'reflect',\n 'might',\n 'experimental',\n 'target',\n 'unification',\n 'put',\n 'companies',\n 'logic',\n 'examples',\n 'per',\n 'continuous',\n 'resources',\n 'rules',\n 'levels',\n 'philosophy',\n 'instruction',\n 'participating',\n 'improved',\n 'closely',\n 'network',\n 'detailed',\n 'measurement',\n 'awareness',\n 'equal',\n 'international',\n 'back',\n 'prior',\n 'close',\n 'written',\n 'response',\n 'continuously',\n 'living',\n 'understood',\n 'beyond',\n 'flipped',\n 'discussions',\n 'lines',\n 'write',\n 'direct',\n 'outside',\n 'explain',\n 'correlation',\n 'statistical',\n 'graph',\n 'finding',\n 'c',\n 'issue',\n 'particles',\n 'teach',\n 'day',\n 'industry',\n 'accordingly',\n 'asked',\n 'liberal',\n 'introduction',\n 'operated',\n 'topic',\n 'inquiry',\n 'characteristic',\n 'story',\n 'tendency',\n 'come',\n 'big',\n 'autonomy',\n 'topics',\n 'live',\n 'cause',\n 'internal',\n 'female',\n 'today',\n 'let',\n 'entire',\n 'image',\n 'clear',\n 'families',\n 'country',\n 'proposed',\n 'in-depth',\n 'became',\n 'explore',\n 'done',\n 'water',\n 'ethics',\n 'described',\n 'limit',\n 'check',\n 'video',\n 'implications',\n 'composition',\n 'length',\n 'business',\n 'consists',\n 'emphasizes',\n 'corresponding',\n 'establish',\n 'theoretical',\n 'highest',\n 'choose',\n 'left',\n 'picture',\n 'abilities',\n 'lifelong',\n 'review',\n 'thoughts',\n 'composed',\n 'lives',\n 'square',\n 'beings',\n 'element',\n 'procedure',\n 'properly',\n 'implementation',\n 'recently',\n 'choice',\n 'includes',\n 'reflected',\n 'recognize',\n 'takes',\n 'book',\n 'collected',\n 'opportunities',\n 'appeared',\n 'treatment',\n 'demand',\n 'attitudes',\n 'discourse',\n 'best',\n 'music',\n 'policies',\n 'measured',\n 'proof',\n 'changing',\n 'domestic',\n 'era',\n 'units',\n 'models',\n 'conduct',\n 'generally',\n 'particle',\n 'planning',\n 'likely',\n 'carried',\n 'recent',\n 'open',\n 'express',\n 'formula',\n 'legal',\n 'series',\n 'strong',\n 'instructor',\n 'trend',\n 'conflict',\n 'validity',\n 'error',\n 'revolution',\n 'suitable',\n 'effort',\n 'interpretation',\n 'curve',\n 'works',\n 'fundamental',\n 'adaptation',\n 'organized',\n 'least',\n 'constant',\n 'professor',\n 'linked',\n 'outcomes',\n 'determine',\n 'universe',\n 'preparation',\n 'sum',\n 'properties',\n 'morality',\n 'anxiety',\n 'initial',\n 'starting',\n 'wastes',\n 'instructors',\n 'short',\n 'connected',\n 'promote',\n 'observed',\n 'responsibility',\n 'sometimes',\n 'youth',\n 'surface',\n 'division',\n 'perform',\n 'beginning',\n 'developmental',\n 'evidence',\n 'perceived',\n 'appears',\n 'democratic',\n 'exist',\n 'parts',\n 'expertise',\n 'algorithm',\n 'self-efficacy',\n 'opinion',\n 'equations',\n 'thing',\n 'section',\n 'ethical',\n 'ratio',\n 'freedom',\n 'move',\n 'processes',\n 'interviews',\n 'comes',\n 'took',\n 'vector',\n 'workers',\n 'earth',\n 'insufficient',\n 'infinite',\n 'perceptions',\n 'scores',\n 'observation',\n 'temperature',\n 'instead',\n 'began',\n 'increases',\n 'interpreted',\n 'hard',\n 'detail',\n 'confidence',\n 'occur',\n 'fully',\n 'success',\n 'unlike',\n 'empathy',\n 'operating',\n 'designed',\n 'global',\n 'friends',\n 'theories',\n 'movement',\n 'representative',\n 'market',\n 'name',\n 'aims',\n 'half',\n 'preservice',\n 'pattern',\n 'health',\n 'consciousness',\n 'century',\n 'product',\n 'share',\n 'sample',\n 'received',\n 'books',\n 'actions',\n 'game',\n 'completely',\n 'going',\n 'interested',\n 'examined',\n 'linear',\n 'adolescents',\n 'city',\n 'article',\n 'useful',\n 'plane',\n 'deal',\n 'reasoning',\n 'suggests',\n 'formation',\n 'categories',\n 'start',\n 'trust',\n 'completed',\n 'impact',\n 'separate',\n 'entrance',\n 'reported',\n 'range',\n 'graduate',\n 'judged',\n 'necessity',\n 'leadership',\n 'events',\n 'integration',\n 'innovative',\n 'truth',\n 'motion',\n 'production',\n 'requires',\n 'effectively',\n 'fourth',\n 'professors',\n 'additional',\n 'n',\n 'studied',\n 'ministry',\n 'read',\n 'humanities',\n 'days',\n 'felt',\n 'search',\n 'technical',\n 'usually',\n 'viewed',\n 'source',\n 'waste',\n 'primary',\n 'geometry',\n 'fractions',\n 'almost',\n 'dealt',\n 'regular',\n 'consistent',\n 'setting',\n 'wave',\n 'came',\n 'providing',\n 'determined',\n 'answers',\n 'region',\n 'complete',\n 'scope',\n 'pointed',\n 'focuses',\n 'measures',\n 'continue',\n 'select',\n 'six',\n 'components',\n 'added',\n 'security',\n 'allows',\n 'counseling',\n 'advance',\n 'civic',\n 'centered',\n 'prepare',\n 'shape',\n 'errors',\n 'unique',\n 'away',\n 'evaluate',\n 'framework',\n 'produced',\n 'foundation',\n 'individuals',\n 'mathematicians',\n 'expanded',\n 'heat',\n 'disability',\n 'rational',\n 'plans',\n 'confirm',\n 'regard',\n 'pay',\n 'transformation',\n 'session',\n 'historical',\n 'hypothesis',\n 'universal',\n 'efficacy',\n 'meet',\n 'significantly',\n 'taken',\n 'circle',\n 'chinese',\n 'gap',\n 'devices',\n 'diversity',\n 'proportion',\n 'environmental',\n 'item',\n 'gas',\n 'matrix',\n 'alternative',\n 'citizens',\n 'male',\n ...]"
     },
     "execution_count": 67,
     "metadata": {},
     "output_type": "execute_result"
    }
   ],
   "source": [
    "edu_sentences = edu_group['text']\n",
    "words = []\n",
    "\n",
    "for sentence in edu_sentences:\n",
    "    word_list = sentence.split(' ')\n",
    "    for word in word_list:\n",
    "        if word:\n",
    "            words.append(regularize(word))\n",
    "\n",
    "edu_counter = Counter(words)\n",
    "edu_counter = sorted(edu_counter, key=edu_counter.get, reverse=True)\n",
    "edu_counter = list(compress(edu_counter, [0 if word in stop_words else 1 for word in edu_counter]))\n",
    "edu_counter"
   ],
   "metadata": {
    "collapsed": false,
    "pycharm": {
     "name": "#%%\n"
    }
   }
  },
  {
   "cell_type": "code",
   "execution_count": 68,
   "outputs": [
    {
     "data": {
      "text/plain": "['<DIG>',\n 'present',\n 'fig',\n 'invention',\n 'unit',\n 'first',\n 'embodiment',\n 'device',\n 'second',\n 'control',\n 'include',\n 'method',\n 'used',\n 'formed',\n 'surface',\n 'one',\n 'information',\n 'using',\n 'power',\n 'vehicle',\n 'air',\n 'heat',\n 'part',\n 'portion',\n 'temperature',\n 'case',\n 'sensor',\n 'material',\n 'signal',\n 'time',\n 'layer',\n 'image',\n 'direction',\n 'system',\n 'apparatus',\n 'user',\n 'provided',\n 'body',\n 'illustrating',\n 'light',\n 'water',\n 'process',\n 'value',\n 'various',\n 'view',\n 'data',\n 'operation',\n 'member',\n 'structure',\n 'side',\n 'plurality',\n 'shown',\n 'described',\n 'diagram',\n 'step',\n 'high',\n 'gas',\n 'state',\n 'based',\n 'voltage',\n 'display',\n 'electronic',\n 'flow',\n 'another',\n 'module',\n 'shape',\n 'driving',\n 'lower',\n '<FLO>',\n '<PER>',\n 'film',\n 'applied',\n 'area',\n 'performed',\n 'connected',\n 'end',\n 'group',\n 'pressure',\n 'input',\n 'reference',\n 'disposed',\n 'current',\n 'output',\n 'amount',\n 'change',\n 'least',\n 'composition',\n 'upper',\n 'treatment',\n 'embodiments',\n 'plate',\n 'object',\n 'processor',\n 'results',\n 'measured',\n 'controller',\n 'resin',\n 'position',\n 'communication',\n 'result',\n 'study',\n 'cooling',\n 'motor',\n 'analysis',\n 'mode',\n 'different',\n 'possible',\n 'form',\n 'includes',\n 'accordingly',\n 'wireless',\n 'shows',\n 'space',\n 'filter',\n 'circuit',\n 'substrate',\n 'storage',\n 'two',\n 'number',\n 'showing',\n 'electrode',\n 'rate',\n 'obtained',\n 'metal',\n 'solution',\n 'energy',\n 'size',\n 'heating',\n 'generated',\n 'effect',\n 'pattern',\n 'properties',\n 'battery',\n 'set',\n 'third',\n 'including',\n 'range',\n 'block',\n 'low',\n 'supply',\n 'speed',\n 'guide',\n 'source',\n 'support',\n 'inner',\n 'cover',\n 'use',\n 'main',\n 'referring',\n 'inside',\n 'housing',\n 'region',\n 'increased',\n 'path',\n 'pipe',\n 'increase',\n 'discharge',\n 'type',\n 'measurement',\n 'sample',\n 'front',\n 'weight',\n 'provide',\n 'compound',\n 'thickness',\n 'test',\n 'terminal',\n 'figure',\n 'valve',\n 'chamber',\n '<TEM>',\n 'installed',\n 'outer',\n 'included',\n 'order',\n 'detection',\n 'characteristics',\n 'line',\n 'concentration',\n 'point',\n 'hole',\n 'transmission',\n 'processing',\n 'preferably',\n 'addition',\n 'reaction',\n 'materials',\n 'contact',\n 'configured',\n 'strength',\n 'liquid',\n 'level',\n 'carbon',\n 'resistance',\n 'configuration',\n 'charging',\n 'external',\n 'frequency',\n 'fluid',\n 'table',\n 'function',\n 'refrigerant',\n 'composite',\n 'made',\n 'predetermined',\n 'determined',\n 'polymer',\n 'frame',\n 'corresponding',\n 'since',\n 'performance',\n 'compared',\n 'element',\n 'rear',\n 'optical',\n 'angle',\n 'electric',\n 'door',\n 'distance',\n 'coupled',\n 'within',\n 'laser',\n 'target',\n 'cell',\n 'confirmed',\n 'meanwhile',\n 'thermal',\n 'receive',\n 'conditions',\n 'outside',\n 'determine',\n 'increases',\n 'less',\n 'force',\n 'acid',\n 'cells',\n 'organic',\n 'sensing',\n 'fiber',\n 'diameter',\n 'higher',\n 'connection',\n 'difference',\n 'whether',\n 'required',\n 'magnetic',\n 'measuring',\n 'therefore',\n 'parts',\n 'devices',\n 'model',\n 'condition',\n 'shaft',\n 'panel',\n 'figs',\n 'field',\n 'transfer',\n 'following',\n 'means',\n 'along',\n 'tube',\n 'perspective',\n 'fixed',\n 'coil',\n 'phase',\n 'flowchart',\n 'manufacturing',\n 'receiving',\n 'specific',\n 'engine',\n 'without',\n 'content',\n 'application',\n 'load',\n 'product',\n 'environment',\n 'thin',\n 'provides',\n 'calculated',\n 'perform',\n 'ratio',\n 'opening',\n 'section',\n 'rotation',\n 'blood',\n 'length',\n 'efficiency',\n 'coupling',\n 'technology',\n 'base',\n 'depending',\n 'exchanger',\n 'coating',\n 'controlling',\n 'groove',\n 'response',\n 'added',\n 'necessary',\n 'examples',\n 'particular',\n 'values',\n 'disclosure',\n 'general',\n 'medical',\n 'like',\n 'component',\n 'fixing',\n 'particles',\n 'related',\n 'location',\n 'stored',\n 'fan',\n 'large',\n 'indoor',\n 'research',\n 'mm',\n 'preferable',\n 'movement',\n 'generate',\n 'injection',\n 'capable',\n 'camera',\n 'prepared',\n 'measure',\n 'methods',\n 'inserted',\n 'improved',\n 'elastic',\n 'reduced',\n 'conducted',\n 'received',\n 'chemical',\n 'width',\n 'total',\n 'exposure',\n 'color',\n 'seen',\n 'generation',\n 'small',\n 'changes',\n 'arranged',\n 'average',\n 'interface',\n 'mounted',\n 'welding',\n 'detect',\n 'electrical',\n 'tank',\n 'compressor',\n 'solvent',\n 'wall',\n 'skin',\n 'cross-sectional',\n 'located',\n 'supplied',\n 'medium',\n 'driver',\n 'mechanical',\n 'distribution',\n 'experiment',\n 'thus',\n 'center',\n 'server',\n 'excellent',\n 'selected',\n 'components',\n 'illustrated',\n 'implemented',\n 'among',\n 'manufactured',\n 'operating',\n 'three',\n 'agent',\n 'obtain',\n 'container',\n 'work',\n 'fuel',\n 'assembly',\n 'moving',\n 'screen',\n 'forming',\n 'beam',\n 'membrane',\n 'refrigerator',\n 'problem',\n 'thereof',\n 'formula',\n 'design',\n 'however',\n 'sensors',\n 'sheet',\n 'oxide',\n 'hand',\n 'maximum',\n 'robot',\n 'signals',\n 'known',\n 'conditioner',\n 'increasing',\n 'transmit',\n 'showed',\n 'ultrasound',\n 'degree',\n 'prevent',\n 'nm',\n 'memory',\n 'times',\n 'detail',\n 'detected',\n 'relatively',\n 'respectively',\n 'heater',\n 'observed',\n 'noise',\n 'pump',\n 'specifically',\n 'motion',\n 'internal',\n 'switch',\n 'authentication',\n 'volume',\n 'paper',\n 'generator',\n 'types',\n 'dust',\n 'around',\n 'compartment',\n 'period',\n 'pulse',\n 'development',\n 'attached',\n 'specimen',\n 'single',\n 'relates',\n 'glass',\n 'removed',\n 'density',\n 'mobile',\n 'well',\n 'bottom',\n 'greater',\n 'changed',\n 'graph',\n 'channel',\n 'discharged',\n 'studies',\n 'management',\n 'limited',\n 'steel',\n 'fourth',\n 'top',\n 'ring',\n 'exchange',\n 'physical',\n 'constant',\n 'gear',\n 'port',\n 'images',\n 'transmitted',\n 'hours',\n 'height',\n 'way',\n 'switching',\n 'setting',\n 'health',\n 'inlet',\n 'developed',\n 'found',\n 'important',\n 'room',\n 'evaluation',\n 'outlet',\n 'vibration',\n 'proposed',\n 'steering',\n 'joint',\n 'wavelength',\n 'network',\n 'bonding',\n 'ultrasonic',\n 'improve',\n 'vertical',\n 'active',\n 'error',\n 'right',\n 'mold',\n 'respect',\n 'core',\n 'recognition',\n 'wheel',\n 'mounting',\n 'rubber',\n 'difficult',\n 'separated',\n 'existing',\n 'becomes',\n 'reduce',\n 'fingerprint',\n 'evaporator',\n 'stress',\n 'key',\n 'solar',\n 'easily',\n 'similar',\n 'quality',\n 'next',\n 'analyzed',\n 'adhesive',\n 'hydrogen',\n 'new',\n 'protrusion',\n 'wave',\n 'torque',\n 'suction',\n 'passage',\n 'μm',\n 'produced',\n 'exhaust',\n 'decrease',\n 'expected',\n 'particle',\n 'combination',\n 'fibers',\n 'controlled',\n 'conventional',\n 'many',\n 'inspection',\n 'equation',\n 'oil',\n 'containing',\n 'x-ray',\n 'equipment',\n 'hot',\n 'occurs',\n 'elements',\n 'normal',\n 'diagnosis',\n 'suitable',\n 'factors',\n 'tensile',\n 'cleaning',\n 'divided',\n 'matrix',\n 'structural',\n 'rotor',\n 'head',\n 'displayed',\n 'transparent',\n 'charge',\n 'introduced',\n 'outdoor',\n 'generating',\n 'receiver',\n 'illustrates',\n 'touch',\n 'conductive',\n 'advantage',\n 'conductivity',\n 'wire',\n 'toward',\n 'aluminum',\n 'long',\n 'additional',\n 'associated',\n 'parallel',\n 'circumferential',\n 'describing',\n 'b',\n 'minutes',\n 'units',\n 'nanoparticles',\n 'catalyst',\n 'detector',\n 'sound',\n 'store',\n 'adjusted',\n 'thereby',\n 'applying',\n 'significantly',\n 'human',\n 'detecting',\n 'mixture',\n 'providing',\n 'drive',\n 'left',\n 'imaging',\n 'insertion',\n 'initial',\n 'positive',\n 'directly',\n 'represented',\n 'cycle',\n 'certain',\n 'solid',\n 'must',\n 'axis',\n 'move',\n 'occur',\n 'safety',\n 'ice',\n 'spaced',\n 'considered',\n 'exposed',\n 'stability',\n 'lens',\n 'manner',\n 'vacuum',\n 'words',\n 'significant',\n 'plasma',\n 'negative',\n 'decreased',\n 'printing',\n 'biometric',\n 'standard',\n 'monitoring',\n 'reception',\n 'smaller',\n 'tissue',\n 'samples',\n 'reducing',\n '3d',\n 'fine',\n 'intensity',\n 'portions',\n 'separate',\n 'depth',\n 'sensitivity',\n 'feature',\n 'oxygen',\n 'semiconductor',\n 'operated',\n 'connecting',\n 'cancer',\n 'explaining',\n 'defined',\n 'converter',\n 'impact',\n 'decreases',\n 'basic',\n 'graphene',\n 'electrodes',\n 'rotating',\n 'generally',\n 'c',\n 'positioned',\n 'performing',\n 'particularly',\n 'follows',\n 'adjacent',\n 'separation',\n 'alloy',\n 'need',\n 'surfaces',\n 'workers',\n 'experimental',\n 'placed',\n 'open',\n 'schematic',\n 'together',\n 'structures',\n 'effects',\n 'aspect',\n 'index',\n 'production',\n 'situation',\n 'determining',\n 'turbine',\n 'command',\n 'led',\n 'mass',\n 'designed',\n 'node',\n 'substances',\n 'cause',\n 'reduction',\n 'resonance',\n 'apart',\n 'groups',\n 'protein',\n 'equal',\n 'transmitter',\n 'systems',\n 'contain',\n 'powder',\n 'preferred',\n 'reported',\n 'working',\n 'subject',\n 'activity',\n 'making',\n 'capacitor',\n 'service',\n 'parking',\n 'larger',\n 'schematically',\n 'layers',\n 'complex',\n 'effective',\n 'expansion',\n 'purpose',\n 'carried',\n 'silicon',\n 'closed',\n 'crystal',\n 'link',\n 'holes',\n 'face',\n 'mixed',\n 'products',\n 'cost',\n 'autonomous',\n 'opened',\n 'overall',\n 'desired',\n 'loss',\n 'entire',\n 'probe',\n 'variable',\n 'horizontal',\n 'stage',\n 'insulating',\n 'ends',\n 'learning',\n 's',\n 'actual',\n 'recently',\n 'areas',\n 'band',\n 'edge',\n 'calculate',\n 'comparative',\n 'patient',\n 'flexible',\n 'factor',\n 'absorption',\n 'cold',\n 'preventing',\n 'functions',\n 'impedance',\n 'spring',\n 'threshold',\n 'above-described',\n 'previous',\n 'cylinder',\n 'nozzle',\n 'plastic',\n 'longitudinal',\n 'conversion',\n 'sides',\n 'capacity',\n 'forms',\n 'good',\n 'hollow',\n 'drying',\n 'flowing',\n 'later',\n 'improving',\n 'alternatively',\n 'moisture',\n 'several',\n 'close',\n 'patients',\n 'industry',\n 'exercise',\n 'molding',\n 'electron',\n 'limit',\n 'polymerization',\n 'maintained',\n 'supporting',\n 'cylindrical',\n 'roller',\n 'heated',\n 'secondary',\n 'e.g.',\n 'antenna',\n 'algorithm',\n 'adjusting',\n 'ground',\n 'sense',\n 'cooking',\n 'receives',\n 'collection',\n 'porous',\n 'characteristic',\n 'presented',\n 'moved',\n 'although',\n 'behavior',\n 'via',\n 'bearing',\n 'final',\n 'completed',\n 'acquire',\n 'strain',\n 'humidity',\n 'passing',\n 'message',\n 'coefficient',\n 'generates',\n 'central',\n 'hardness',\n 'cross',\n 'problems',\n 'steam',\n 'ion',\n 'carrier',\n 'pair',\n 'art',\n 'four',\n 'collected',\n 'points',\n 'compression',\n 'fabric',\n 'flows',\n 'growth',\n 'multiple',\n 'check',\n '<DEG>',\n 'magnet',\n 'array',\n 'washing',\n 'molecular',\n 'hydraulic',\n 'program',\n 'moves',\n 'piezoelectric',\n 'curing',\n 'map',\n 'board',\n 'mentioned',\n 'emitting',\n 'pixel',\n 'hybrid',\n 'relative',\n 'peak',\n 'cases',\n 'composed',\n 'request',\n 'bracket',\n 'technique',\n 'circular',\n 'comparison',\n 'simultaneously',\n 'much',\n 'recovery',\n 'simple',\n 'exemplary',\n 'pin',\n 'g',\n 'foreign',\n 'caused',\n 'bending',\n 'bar',\n 'machine',\n 'risk',\n 'individual',\n 'nitrogen',\n 'black',\n 'rod',\n 'determines',\n 'linear',\n 'show',\n 'lane',\n 'coated',\n 'prior',\n 'adhesion',\n 'inverter',\n 'road',\n 'appropriate',\n 'drug',\n 'correspond',\n 'spectrum',\n 'antibody',\n 'connector',\n 'substance',\n 'remove',\n 'cooled',\n 'transferred',\n 'diagrams',\n 'mixing',\n 'interior',\n 'functional',\n 'pass',\n 'cutting',\n 'circulation',\n 'determination',\n 'waste',\n 'v',\n 'failure',\n 'transmitting',\n 'easy',\n 'operate',\n 'interval',\n 'combined',\n 'integrated',\n 'radiation',\n 'dc',\n 'column',\n 'phenomenon',\n 'friction',\n 'copolymer',\n 'continuous',\n 'characterized',\n 'brake',\n 'members',\n 'improvement',\n 'opposite',\n 'atoms',\n 'irradiation',\n 'reason',\n 'buffer',\n 'photosensitive',\n 'damage',\n 'plane',\n 'fastening',\n 'intermediate',\n 'evaluated',\n 'rotary',\n 'viscosity',\n 'life',\n 'aqueous',\n 'pad',\n 'back',\n 'processes',\n 'auxiliary',\n 'emission',\n 'expressed',\n 'rotate',\n 'window',\n 'mainly',\n 'formation',\n 'sequence',\n 'partial',\n 'acquired',\n 'digital',\n 'gradually',\n 'combustion',\n 'coolant',\n 'natural',\n 'contained',\n 'simulation',\n 'modified',\n 'procedure',\n 'sleep',\n 'rotational',\n 'substantially',\n 'stimulus',\n 'classified',\n 'lever',\n 'rail',\n 'accuracy',\n 'smart',\n 'thereto',\n 'comprises',\n 'duct',\n 'relationship',\n 'salt',\n 'correction',\n 'reinforcing',\n 'per',\n 'detailed',\n 'virtual',\n 'blade',\n 'needle',\n 'gap',\n 'curved',\n 'extend',\n 'performs',\n 'controls',\n 'dried',\n 'thereafter',\n 'clutch',\n 'infrared',\n 'adjust',\n 'seat',\n 'removing',\n 'notification',\n 'blower',\n 'reliability',\n 'd',\n 'additionally',\n 'assistance',\n 'food',\n 'shift',\n 'referred',\n 'confirm',\n 'analyzing',\n 'holder',\n 'status',\n 'piston',\n 'disclosed',\n 'electrically',\n 'conditioning',\n 'three-dimensional',\n 'thermoelectric',\n 'ball',\n 'sealing',\n 'extracted',\n ...]"
     },
     "execution_count": 68,
     "metadata": {},
     "output_type": "execute_result"
    }
   ],
   "source": [
    "mec_sentences = mec_group['text']\n",
    "words = []\n",
    "\n",
    "for sentence in mec_sentences:\n",
    "    word_list = sentence.split(' ')\n",
    "    for word in word_list:\n",
    "        if word:\n",
    "            words.append(regularize(word))\n",
    "\n",
    "mec_counter = Counter(words)\n",
    "mec_counter = sorted(mec_counter, key=mec_counter.get, reverse=True)\n",
    "mec_counter = list(compress(mec_counter, [0 if word in stop_words else 1 for word in mec_counter]))\n",
    "mec_counter"
   ],
   "metadata": {
    "collapsed": false,
    "pycharm": {
     "name": "#%%\n"
    }
   }
  },
  {
   "cell_type": "code",
   "execution_count": 69,
   "outputs": [
    {
     "data": {
      "text/plain": "['<DIG>',\n 'rate',\n '<PER>',\n 'financial',\n 'economic',\n 'korea',\n 'companies',\n 'market',\n 'income',\n 'tax',\n 'analysis',\n 'effect',\n 'study',\n 'increase',\n 'system',\n 'case',\n 'investment',\n 'growth',\n 'countries',\n 'level',\n 'government',\n 'aaa',\n 'time',\n 'results',\n 'policy',\n 'insurance',\n 'used',\n 'industry',\n 'model',\n 'data',\n 'value',\n 'first',\n 'number',\n 'company',\n 'high',\n 'year',\n 'china',\n 'local',\n 'price',\n 'result',\n 'social',\n 'economy',\n 'period',\n 'management',\n 'business',\n '<FLO>',\n 'public',\n 'based',\n 'capital',\n 'total',\n 'since',\n 'interest',\n 'information',\n 'new',\n 'using',\n 'korean',\n 'variables',\n 'higher',\n 'research',\n 'development',\n 'labor',\n 'studies',\n 'two',\n 'found',\n 'one',\n 'increased',\n 'necessary',\n 'expected',\n 'domestic',\n 'trade',\n 'factors',\n 'bbb',\n 'table',\n 'significant',\n 'change',\n 'related',\n 'relationship',\n 'corporate',\n 'national',\n 'ratio',\n 'amount',\n 'average',\n 'foreign',\n 'support',\n 'years',\n 'people',\n 'method',\n 'various',\n 'large',\n 'performance',\n 'act',\n 'employment',\n 'important',\n 'production',\n 'however',\n 'order',\n 'education',\n 'products',\n 'among',\n 'workers',\n 'service',\n 'changes',\n 'compared',\n 'variable',\n 'process',\n 'characteristics',\n 'means',\n 'demand',\n 'low',\n 'risk',\n 'use',\n 'technology',\n 'positive',\n 'north',\n 'addition',\n 'real',\n 'difference',\n 'impact',\n 'industrial',\n 'medical',\n 'many',\n 'whether',\n 'consumption',\n 'hand',\n 'housing',\n 'cost',\n 'analyzed',\n 'future',\n 'proportion',\n 'country',\n 'difficult',\n 'seen',\n 'crisis',\n 'assets',\n 'institutions',\n 'general',\n 'global',\n 'shows',\n 'wage',\n 'private',\n 'terms',\n 'stock',\n 'exchange',\n 'words',\n 'said',\n 'index',\n 'particular',\n 'credit',\n 'distribution',\n 'different',\n 'small',\n 'group',\n 'debt',\n 'household',\n 'prices',\n 'structure',\n 'sales',\n 'current',\n 'problem',\n 'size',\n 'individual',\n 'rates',\n 'negative',\n 'bank',\n 'won',\n 'area',\n 'fiscal',\n 'costs',\n 'increases',\n 'increasing',\n 'product',\n 'states',\n 'factor',\n 'households',\n 'activities',\n 'power',\n 'services',\n 'major',\n 'conducted',\n 'shown',\n 'previous',\n 'international',\n 'loans',\n 'existing',\n 'us',\n 'united',\n 'innovation',\n 'export',\n 'relatively',\n 'industries',\n 'sector',\n 'job',\n 'considered',\n 'evaluation',\n 'banks',\n 'expenditure',\n 'goods',\n 'japan',\n 'estimated',\n 'lower',\n 'made',\n 'share',\n 'must',\n 'possible',\n 'law',\n 'effects',\n 'productivity',\n 'age',\n 'cases',\n 'per',\n 'policies',\n 'consumers',\n 'health',\n 'supply',\n 'regulations',\n 'three',\n 'contract',\n 'following',\n 'gap',\n 'role',\n 'significantly',\n 'similar',\n 'loan',\n 'type',\n 'chinese',\n 'life',\n 'second',\n 'million',\n 'work',\n 'trend',\n 'function',\n 'long-term',\n 'region',\n 'chapter',\n 'need',\n 'basic',\n 'consumer',\n 'overseas',\n 'project',\n 'rather',\n 'including',\n 'empirical',\n 'within',\n 'main',\n 'payment',\n 'applied',\n 'conditions',\n 'exports',\n 'return',\n 'depending',\n 'figure',\n 'pension',\n 'point',\n 'follows',\n 'budget',\n 'control',\n 'asset',\n 'estate',\n 'established',\n 'survey',\n 'reason',\n 'possibility',\n 'areas',\n 'influence',\n 'equation',\n 'presented',\n 'manufacturing',\n 'term',\n 'enterprises',\n 'fact',\n 'regional',\n 'subject',\n 'investors',\n 'transaction',\n 'specific',\n 'overall',\n 'problems',\n 'plan',\n 'world',\n 'showed',\n 'rights',\n 'funds',\n 'burden',\n 'quality',\n 'past',\n 'coefficient',\n 'status',\n 'confirmed',\n 'paper',\n 'purpose',\n 'without',\n 'items',\n 'set',\n 'efficiency',\n 'account',\n 'estimation',\n 'expenses',\n 'billion',\n 'well',\n 'mainly',\n 'less',\n 'target',\n 'actual',\n 'measures',\n 'environment',\n 'recently',\n 'finance',\n 'way',\n 'decrease',\n 'form',\n 'situation',\n 'benefits',\n 'long',\n 'population',\n 'welfare',\n 'governments',\n 'divided',\n 'groups',\n 'profit',\n 'money',\n 'like',\n 'strategy',\n 'legal',\n 'considering',\n 'analyze',\n 'krw',\n 'state',\n 'direct',\n 'still',\n 'therefore',\n 'article',\n 'minimum',\n 'likely',\n 'markets',\n 'businesses',\n 'greater',\n 'projects',\n 'degree',\n 'theory',\n 'response',\n 'resources',\n 'calculated',\n 'last',\n 'expansion',\n 'students',\n 'standard',\n 'improve',\n 'school',\n 'behavior',\n 'values',\n 'affect',\n 'end',\n 'limited',\n 'construction',\n 'gdp',\n 'external',\n 'transactions',\n 'securities',\n 'improvement',\n 'looking',\n 'developed',\n 'satisfaction',\n 'currency',\n 'r&d',\n 'much',\n 'included',\n 'direction',\n 'reduced',\n 'transfer',\n 'next',\n 'women',\n 'decline',\n 'required',\n 'net',\n 'commercial',\n 'early',\n 'recent',\n 'elderly',\n 'central',\n 'monetary',\n 'south',\n 'purchase',\n 'types',\n 'regression',\n 'working',\n 'cooperation',\n 'show',\n 'reduction',\n 'highest',\n 'provide',\n 'special',\n 'city',\n 'make',\n 'human',\n 'concept',\n 'correlation',\n 'agreement',\n 'volatility',\n 'organization',\n 'seems',\n 'although',\n 'rise',\n 'regions',\n 'trillion',\n 'differences',\n 'decreased',\n 'regulation',\n 'energy',\n 'test',\n 'competition',\n 'competitiveness',\n 'trust',\n 'around',\n 'certain',\n 'probability',\n 'knowledge',\n 'members',\n 'provided',\n 'inequality',\n 'become',\n 'land',\n 'right',\n 'fund',\n 'basis',\n 'stocks',\n 'indicators',\n 'society',\n 'issue',\n 'needs',\n 'political',\n 'advantage',\n 'panel',\n 'organizational',\n 'institutional',\n 'property',\n 'effective',\n 'jobs',\n 'introduced',\n 'inflation',\n 'added',\n 'determined',\n 'scale',\n 'efforts',\n 'times',\n 'protection',\n 'sample',\n 'smes',\n 'experience',\n 'pay',\n 'issues',\n 'include',\n 'actively',\n 'appropriate',\n 'dependent',\n 'profits',\n 'revenue',\n 'care',\n 'methods',\n 'third',\n 'half',\n 'organizations',\n 'additional',\n 'employees',\n 'limit',\n 'hypothesis',\n 'measured',\n 'network',\n 'limitations',\n 'systems',\n 'participation',\n 'classified',\n 'operating',\n 'paid',\n 'fff',\n 'security',\n 'person',\n 'unit',\n 'reduce',\n 'good',\n 'section',\n 'stability',\n 'cause',\n 'entity',\n 'refers',\n 'shareholders',\n 'operation',\n 'strong',\n 'rapidly',\n 'recognized',\n 'balance',\n 'annual',\n 'principle',\n 'introduction',\n 'wages',\n 'seoul',\n 'take',\n 'defined',\n 'directly',\n 'ability',\n 'internal',\n 'lead',\n 'food',\n 'part',\n 'stage',\n 'trading',\n 'directors',\n 'bonds',\n 'expand',\n 'points',\n 'independent',\n 'find',\n 'taxation',\n 'nature',\n 'caused',\n 'four',\n 'field',\n 'equity',\n 'understanding',\n 'personal',\n 'class',\n 'several',\n 'given',\n 'spread',\n 'base',\n 'corporations',\n 'implications',\n 'cash',\n '<MON>',\n 'needed',\n 'key',\n 'spending',\n 'residents',\n 'already',\n 'perspective',\n 'reform',\n 'metropolitan',\n 'benefit',\n 'fta',\n 'rental',\n 'five',\n 'active',\n 'view',\n 'attention',\n 'generally',\n 'common',\n 'short-term',\n 'implemented',\n 'place',\n 'medium-sized',\n 'premium',\n 'continue',\n 'estimate',\n 'unemployment',\n 'customer',\n 'models',\n 'strengthen',\n 'expanding',\n 'meanwhile',\n 'decreases',\n 'accounting',\n 'fixed',\n 'argued',\n 'accordingly',\n 'japanese',\n 'short',\n 'selection',\n 'hours',\n 'significance',\n 'economics',\n 'leading',\n 'finally',\n 'lack',\n 'analyzing',\n 'statistics',\n 'phenomenon',\n 'monthly',\n 'establishment',\n 'capabilities',\n 'oecd',\n 'raised',\n 'governance',\n 'volume',\n 'potential',\n 'highly',\n 'agricultural',\n 'adjustment',\n 'largest',\n 'promotion',\n 'day',\n 'great',\n 'days',\n 'improved',\n 'learning',\n 'appears',\n 'affected',\n 'performed',\n 'respectively',\n 'ministry',\n 'interpreted',\n 'bond',\n 'decision',\n 'discussed',\n 'technological',\n 'focus',\n 'online',\n 'regulatory',\n 'u.s',\n 'final',\n 'creation',\n 'intention',\n 'expanded',\n 'fluctuations',\n 'able',\n 'slightly',\n 'comprehensive',\n 'outside',\n 'regarding',\n 'prior',\n 'continued',\n 'office',\n 'effectiveness',\n 'derived',\n 'examine',\n 'free',\n 'compensation',\n 'loss',\n 'report',\n 'another',\n 'entire',\n 'shock',\n 'unlike',\n 'showing',\n 'selected',\n 'application',\n 'making',\n 'treatment',\n 'home',\n 'statistically',\n 'culture',\n 'measure',\n 'taking',\n 'explained',\n 'complex',\n 'settlement',\n 'infrastructure',\n 'easy',\n 'natural',\n 'evaluated',\n 'assumed',\n 'received',\n 'importance',\n 'classification',\n 'developing',\n 'committee',\n 'obtained',\n 'reasons',\n 'acquisition',\n 'called',\n 'judged',\n 'standards',\n 'establish',\n 'imports',\n 'board',\n 'levels',\n 'becomes',\n 'explanatory',\n 'look',\n 'institution',\n 'oil',\n 'deposit',\n 'poverty',\n 'relations',\n 'content',\n 'children',\n 'reflect',\n 'court',\n 'position',\n 'along',\n 'logistics',\n 'contents',\n 'discussion',\n 'corporation',\n 'young',\n 'secure',\n 'gradually',\n 'months',\n 'range',\n 'uncertainty',\n 'changed',\n 'transportation',\n 'competitive',\n 'blockchain',\n 'series',\n 'relative',\n 'course',\n 'improving',\n 'affects',\n 'month',\n 'environmental',\n 'created',\n 'responsibility',\n 'banking',\n 'revolution',\n 'clear',\n 'middle',\n 'present',\n 'receive',\n 'party',\n 'scope',\n 'savings',\n 'began',\n 'criteria',\n 'determine',\n 'review',\n 'implementation',\n 'consider',\n 'premiums',\n 'laws',\n 'understand',\n 'facilities',\n 'includes',\n 'enterprise',\n 'recovery',\n 'cultural',\n 'living',\n 'shopping',\n 'marketing',\n 'returns',\n 'intelligence',\n 'reducing',\n 'structural',\n 'financing',\n 'customers',\n 'artificial',\n 'top',\n 'detailed',\n 'see',\n 'consideration',\n 'guarantee',\n 'side',\n 'cities',\n 'eu',\n 'movement',\n 'house',\n 'listed',\n 'line',\n 'risks',\n 'representative',\n 'simple',\n 'urban',\n 'retirement',\n 'history',\n 'plans',\n 'center',\n 'mutual',\n 'strategic',\n 'capita',\n 'expressed',\n 'holding',\n 'occur',\n 'meeting',\n 'ways',\n 'agency',\n 'treasury',\n 'mobile',\n 'fourth',\n 'educational',\n 'quarter',\n 'technical',\n 'contribution',\n 'association',\n 'shareholder',\n 'statistical',\n 'reality',\n 'focused',\n 'prevent',\n 'stable',\n 'investments',\n 'known',\n 'taxes',\n 'identified',\n 'excluded',\n 'proposed',\n 'family',\n 'output',\n 'concentration',\n 'advanced',\n 'communication',\n 'electronic',\n 'achieved',\n 'suggested',\n 'activity',\n 'explain',\n 'input',\n 'water',\n 'strategies',\n 'choice',\n 'old',\n 'analyzes',\n 'occurs',\n 'decisions',\n 'interests',\n 'authority',\n 'emerging',\n 'incentive',\n 'apply',\n 'larger',\n 'aging',\n 'reliability',\n 'solve',\n 'appear',\n 'accounts',\n 'believed',\n 'suggests',\n 'regular',\n 'item',\n 'ownership',\n 'conflict',\n 'training',\n 'estimating',\n 'member',\n 'discussions',\n 'repayment',\n 'safety',\n 'sectors',\n 'functions',\n 'promote',\n 'technologies',\n 'meaning',\n 'virtual',\n 'goal',\n 'held',\n 'resulting',\n 'insufficient',\n 'develop',\n 'joint',\n 'alternative',\n 'examined',\n 'mean',\n 'traditional',\n 'relation',\n 'requirements',\n 'college',\n 'smart',\n 'supervisory',\n 'liability',\n 'observed',\n 'think',\n 'low-income',\n 'achieve',\n 'contracts',\n 'somewhat',\n 'pointed',\n 'value-added',\n 'percentage',\n 'mentioned',\n 'generation',\n 'despite',\n 'single',\n 'create',\n 'marginal',\n 'sense',\n 'liquidity',\n 'community',\n 'entry',\n 'relevant',\n 'summarized',\n 'province',\n 'force',\n 'rapid',\n 'experts',\n 'reflecting',\n 'facility',\n 'source',\n 'war',\n 'january',\n 'carried',\n 'focusing',\n 'aspects',\n 'instead',\n 'patients',\n 'gender',\n 'investigation',\n 'investor',\n 'core',\n 'disclosure',\n 'excessive',\n 'youth',\n 'users',\n 'materials',\n 'daily',\n 'question',\n 'reported',\n 'actually',\n 'others',\n 'mortgage',\n 'damage',\n 'fall',\n 'multiple',\n 'close',\n 'separate',\n 'lot',\n 'sale',\n 'comparison',\n 'provides',\n 'rural',\n 'accordance',\n 'presents',\n 'raising',\n 'big',\n 'shares',\n 'incentives',\n 'procedure',\n 'decision-making',\n 'men',\n 'dynamic',\n 'science',\n 'flow',\n 'allocation',\n 'measurement',\n 'approach',\n 'earned',\n 'maintain',\n 'parties',\n 'capacity',\n 'poor',\n 'described',\n 'became',\n 'phase',\n 'changing',\n 'administrative',\n 'predicted',\n 'department',\n 'import',\n 'program',\n 'brand',\n 'reached',\n 'vietnam',\n 'maintained',\n 'whole',\n 'rating',\n 'rose',\n 'open',\n 'germany',\n 'applying',\n 'digital',\n 'progress',\n 'quantitative',\n 'often',\n 'tendency',\n 'judgment',\n 'initial',\n 'background',\n 'excluding',\n 'path',\n 'calculating',\n 'claim',\n 'want',\n 'march',\n 'intermediate',\n 'error',\n 'media',\n 'characteristic',\n 'opportunity',\n 'earlier',\n 'best',\n 'questions',\n 'civil',\n 'largely',\n 'authorities',\n 'units',\n 'condition',\n 'dividing',\n 'verification',\n 'tourism',\n 'regard',\n 'taken',\n 'negotiations',\n 'lowest',\n 'profitability',\n 'convenience',\n 'conclusion',\n 'reflected',\n 'payments',\n 'temporary',\n 'weak',\n 'continuously',\n 'emphasized',\n 'causes',\n 'elasticity',\n 'stores',\n 'deposits',\n 'continues',\n 'perception',\n 'sanctions',\n 'subjects',\n 'liabilities',\n 'space',\n 'rules',\n 'opinions',\n ...]"
     },
     "execution_count": 69,
     "metadata": {},
     "output_type": "execute_result"
    }
   ],
   "source": [
    "eco_sentences = eco_group['text']\n",
    "words = []\n",
    "\n",
    "for sentence in eco_sentences:\n",
    "    word_list = sentence.split(' ')\n",
    "    for word in word_list:\n",
    "        if word:\n",
    "            words.append(regularize(word))\n",
    "\n",
    "eco_counter = Counter(words)\n",
    "eco_counter = sorted(eco_counter, key=eco_counter.get, reverse=True)\n",
    "eco_counter = list(compress(eco_counter, [0 if word in stop_words else 1 for word in eco_counter]))\n",
    "eco_counter"
   ],
   "metadata": {
    "collapsed": false,
    "pycharm": {
     "name": "#%%\n"
    }
   }
  },
  {
   "cell_type": "code",
   "execution_count": 70,
   "outputs": [],
   "source": [
    "min_len = len(min([ict_counter, edu_counter, mec_counter, eco_counter], key=len))"
   ],
   "metadata": {
    "collapsed": false,
    "pycharm": {
     "name": "#%%\n"
    }
   }
  },
  {
   "cell_type": "code",
   "execution_count": 71,
   "outputs": [],
   "source": [
    "compare_df = pd.DataFrame(columns=['ICT', 'EDU', 'MEC', 'ECO'], )\n",
    "compare_df['ICT'] = ict_counter[:min_len]\n",
    "compare_df['EDU'] = edu_counter[:min_len]\n",
    "compare_df['MEC'] = mec_counter[:min_len]\n",
    "compare_df['ECO'] = eco_counter[:min_len]"
   ],
   "metadata": {
    "collapsed": false,
    "pycharm": {
     "name": "#%%\n"
    }
   }
  },
  {
   "cell_type": "code",
   "execution_count": 72,
   "outputs": [
    {
     "data": {
      "text/plain": "                       ICT                EDU               MEC  \\\n0                    <DIG>          education             <DIG>   \n1                   device              <DIG>           present   \n2              information           students               fig   \n3                     data             school         invention   \n4                    first           learning              unit   \n...                    ...                ...               ...   \n18725                 cept  calculation-based  non-differential   \n18726       cyber-physical       orientedness               llc   \n18727          personalize             beside    anti-vibration   \n18728                 128f        gall-peters            buckle   \n18729  maintenance-related          continent              miss   \n\n                     ECO  \n0                  <DIG>  \n1                   rate  \n2                  <PER>  \n3              financial  \n4               economic  \n...                  ...  \n18725          embassies  \n18726     deposit-taking  \n18727           78.521.5  \n18728                sem  \n18729  granger-causality  \n\n[18730 rows x 4 columns]",
      "text/html": "<div>\n<style scoped>\n    .dataframe tbody tr th:only-of-type {\n        vertical-align: middle;\n    }\n\n    .dataframe tbody tr th {\n        vertical-align: top;\n    }\n\n    .dataframe thead th {\n        text-align: right;\n    }\n</style>\n<table border=\"1\" class=\"dataframe\">\n  <thead>\n    <tr style=\"text-align: right;\">\n      <th></th>\n      <th>ICT</th>\n      <th>EDU</th>\n      <th>MEC</th>\n      <th>ECO</th>\n    </tr>\n  </thead>\n  <tbody>\n    <tr>\n      <th>0</th>\n      <td>&lt;DIG&gt;</td>\n      <td>education</td>\n      <td>&lt;DIG&gt;</td>\n      <td>&lt;DIG&gt;</td>\n    </tr>\n    <tr>\n      <th>1</th>\n      <td>device</td>\n      <td>&lt;DIG&gt;</td>\n      <td>present</td>\n      <td>rate</td>\n    </tr>\n    <tr>\n      <th>2</th>\n      <td>information</td>\n      <td>students</td>\n      <td>fig</td>\n      <td>&lt;PER&gt;</td>\n    </tr>\n    <tr>\n      <th>3</th>\n      <td>data</td>\n      <td>school</td>\n      <td>invention</td>\n      <td>financial</td>\n    </tr>\n    <tr>\n      <th>4</th>\n      <td>first</td>\n      <td>learning</td>\n      <td>unit</td>\n      <td>economic</td>\n    </tr>\n    <tr>\n      <th>...</th>\n      <td>...</td>\n      <td>...</td>\n      <td>...</td>\n      <td>...</td>\n    </tr>\n    <tr>\n      <th>18725</th>\n      <td>cept</td>\n      <td>calculation-based</td>\n      <td>non-differential</td>\n      <td>embassies</td>\n    </tr>\n    <tr>\n      <th>18726</th>\n      <td>cyber-physical</td>\n      <td>orientedness</td>\n      <td>llc</td>\n      <td>deposit-taking</td>\n    </tr>\n    <tr>\n      <th>18727</th>\n      <td>personalize</td>\n      <td>beside</td>\n      <td>anti-vibration</td>\n      <td>78.521.5</td>\n    </tr>\n    <tr>\n      <th>18728</th>\n      <td>128f</td>\n      <td>gall-peters</td>\n      <td>buckle</td>\n      <td>sem</td>\n    </tr>\n    <tr>\n      <th>18729</th>\n      <td>maintenance-related</td>\n      <td>continent</td>\n      <td>miss</td>\n      <td>granger-causality</td>\n    </tr>\n  </tbody>\n</table>\n<p>18730 rows × 4 columns</p>\n</div>"
     },
     "execution_count": 72,
     "metadata": {},
     "output_type": "execute_result"
    }
   ],
   "source": [
    "compare_df"
   ],
   "metadata": {
    "collapsed": false,
    "pycharm": {
     "name": "#%%\n"
    }
   }
  }
 ],
 "metadata": {
  "kernelspec": {
   "display_name": "Python 3",
   "language": "python",
   "name": "python3"
  },
  "language_info": {
   "codemirror_mode": {
    "name": "ipython",
    "version": 2
   },
   "file_extension": ".py",
   "mimetype": "text/x-python",
   "name": "python",
   "nbconvert_exporter": "python",
   "pygments_lexer": "ipython2",
   "version": "2.7.6"
  }
 },
 "nbformat": 4,
 "nbformat_minor": 0
}